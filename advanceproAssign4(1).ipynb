{
 "cells": [
  {
   "cell_type": "code",
   "execution_count": 1,
   "metadata": {},
   "outputs": [
    {
     "data": {
      "text/plain": [
       "6765"
      ]
     },
     "execution_count": 1,
     "metadata": {},
     "output_type": "execute_result"
    }
   ],
   "source": [
    "'''\n",
    "1. In mathematics, the Fibonacci numbers, commonly denoted Fn, form a\n",
    "sequence, called the Fibonacci sequence, such that each number is the sum\n",
    "of the two preceding ones, starting from 0 and 1:\n",
    "\n",
    "The beginning of the sequence is this:\n",
    "0, 1, 1, 2, 3, 5, 8, 13, 21, 34, 55, 89, 144, ...\n",
    "The function fastFib(num) returns the fibonacci number Fn, of the given num\n",
    "as an argument.\n",
    "Examples\n",
    "fib_fast(5) ➞ 5\n",
    "fib_fast(10) ➞ 55\n",
    "fib_fast(20) ➞ 6765\n",
    "fib_fast(50) ➞ 12586269025\n",
    "'''\n",
    "def fib_fast(num):\n",
    "    if num == 0 : return 0\n",
    "    if num == 1 : return 1\n",
    "    else:\n",
    "        return fib_fast(num-1)+fib_fast(num-2)\n",
    "\n",
    "\n",
    "fib_fast(20)"
   ]
  },
  {
   "cell_type": "code",
   "execution_count": null,
   "metadata": {},
   "outputs": [],
   "source": [
    "'''\n",
    "2. Create a function that takes a strings characters as ASCII and returns each characters hexadecimal value as a string.\n",
    "\n",
    "Examples\n",
    "\n",
    "convert_to_hex(\"hello world\") ➞ \"68 65 6c 6c 6f 20 77 6f 72 6c 64\"\n",
    "\n",
    "convert_to_hex(\"Big Boi\") ➞ \"42 69 67 20 42 6f 69\"\n",
    "\n",
    "convert_to_hex(\"Marty Poppinson\") ➞ \"4d 61 72 74 79 20 50 6f 70 70 69 6e 73 6f 6e\"\n",
    "\n",
    "\n",
    "\n",
    "'''"
   ]
  },
  {
   "cell_type": "code",
   "execution_count": 70,
   "metadata": {},
   "outputs": [
    {
     "data": {
      "text/plain": [
       "'hexadecimal value of hello world is = 0x68 0x65 0x6c 0x6c 0x6f 0x20 0x77 0x6f 0x72 0x6c 0x64 '"
      ]
     },
     "execution_count": 70,
     "metadata": {},
     "output_type": "execute_result"
    }
   ],
   "source": [
    "def convert_to_hex(string):\n",
    "    hex_d = \"\"\n",
    "    l = []\n",
    "    \n",
    "    for i in string:\n",
    "        l.append(ord(i))\n",
    "        \n",
    "    for j in l:\n",
    "        hex_d+= hex(j)+' '\n",
    "    \n",
    "    \n",
    "    return f'hexadecimal value of {string} is = {hex_d}'\n",
    "\n",
    "convert_to_hex(\"hello world\")"
   ]
  },
  {
   "cell_type": "code",
   "execution_count": null,
   "metadata": {},
   "outputs": [],
   "source": [
    "'''\n",
    "\n",
    "4. Write a function that takes an IP address and returns the domain name using PTR DNS records.\n",
    "\n",
    "Example\n",
    "\n",
    "get_domain(\"8.8.8.8\") ➞ \"dns.google\"\n",
    "\n",
    "get_domain(\"8.8.4.4\") ➞ \"dns.google\"\n",
    "\n",
    "\n",
    "'''"
   ]
  },
  {
   "cell_type": "code",
   "execution_count": 155,
   "metadata": {},
   "outputs": [
    {
     "data": {
      "text/plain": [
       "<DNS IN PTR rdata: dns.google.>"
      ]
     },
     "execution_count": 155,
     "metadata": {},
     "output_type": "execute_result"
    }
   ],
   "source": [
    "from dns import resolver,reversename\n",
    "\n",
    "def get_domain(ip_add):\n",
    "    \n",
    "    domain_adress = reversename.from_address(ip_add)\n",
    "    \n",
    "    #ip_address = reversename.to_address(domain_address) '''to get ip adress from a domain address'''\n",
    "    \n",
    "    domain_name = resolver.resolve(domain_address,'PTR')[0]\n",
    "    return domain_name\n",
    "    \n",
    "get_domain(\"8.8.4.4\")"
   ]
  },
  {
   "cell_type": "code",
   "execution_count": null,
   "metadata": {},
   "outputs": [],
   "source": [
    "'''\n",
    "3. Someone has attempted to censor my strings by replacing every vowel with a *, l*k* th*s. Luckily, I've been able to find the vowels that were removed.\n",
    "\n",
    "Given a censored string and a string of the censored vowels, return the original uncensored string.\n",
    "\n",
    "Example\n",
    "\n",
    "uncensor(\"Wh*r* d*d my v*w*ls g*?\", \"eeioeo\") ➞ \"Where did my vowels go?\"\n",
    "\n",
    "uncensor(\"abcd\", \"\") ➞ \"abcd\"\n",
    "\n",
    "uncensor(\"*PP*RC*S*\", \"UEAE\") ➞ \"UPPERCASE\"\n",
    "\n",
    "'''"
   ]
  },
  {
   "cell_type": "code",
   "execution_count": 176,
   "metadata": {},
   "outputs": [
    {
     "data": {
      "text/plain": [
       "'UPPERCASE'"
      ]
     },
     "execution_count": 176,
     "metadata": {},
     "output_type": "execute_result"
    }
   ],
   "source": [
    "def uncensor(str1,str2):\n",
    "    l = []\n",
    "    count=0\n",
    "    new_string=\"\"\n",
    "    \n",
    "    for i in str1:\n",
    "        l.append(i)\n",
    "        if i == '*':\n",
    "            l.append(str2[count])\n",
    "            count+=1\n",
    "            l.remove(i)\n",
    "            \n",
    "    for j in l:\n",
    "        new_string+=j\n",
    "        \n",
    "    return new_string\n",
    "\n",
    "uncensor(\"*PP*RC*S*\",\"UEAE\")"
   ]
  },
  {
   "cell_type": "code",
   "execution_count": null,
   "metadata": {},
   "outputs": [],
   "source": [
    "'''\n",
    "5. Create a function that takes an integer n and returns the factorial of factorials. See below examples for a better understanding:\n",
    "\n",
    "Examples\n",
    "\n",
    "fact_of_fact(4) ➞ 288\n",
    "# 4! * 3! * 2! * 1! = 288\n",
    "\n",
    "fact_of_fact(5) ➞ 34560\n",
    "\n",
    "fact_of_fact(6) ➞ 24883200\n",
    "\n",
    "'''"
   ]
  },
  {
   "cell_type": "code",
   "execution_count": null,
   "metadata": {},
   "outputs": [],
   "source": []
  },
  {
   "cell_type": "code",
   "execution_count": null,
   "metadata": {},
   "outputs": [],
   "source": []
  }
 ],
 "metadata": {
  "kernelspec": {
   "display_name": "Python 3",
   "language": "python",
   "name": "python3"
  },
  "language_info": {
   "codemirror_mode": {
    "name": "ipython",
    "version": 3
   },
   "file_extension": ".py",
   "mimetype": "text/x-python",
   "name": "python",
   "nbconvert_exporter": "python",
   "pygments_lexer": "ipython3",
   "version": "3.7.4"
  }
 },
 "nbformat": 4,
 "nbformat_minor": 2
}
